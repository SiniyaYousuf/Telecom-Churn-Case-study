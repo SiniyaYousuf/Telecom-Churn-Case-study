{
 "cells": [
  {
   "cell_type": "markdown",
   "id": "a8cbcbb6",
   "metadata": {},
   "source": [
    "## Telecom Case Study"
   ]
  },
  {
   "cell_type": "markdown",
   "id": "ceef41ae",
   "metadata": {},
   "source": [
    "### Business Problem Overview\n",
    "In the telecom industry, customers are able to choose from multiple service providers and actively switch from one operator to another. In this highly competitive market, the telecommunications industry experiences an average of 15-25% annual churn rate. Given the fact that it costs 5-10 times more to acquire a new customer than to retain an existing one, customer retention has now become even more important than customer acquisition. For many incumbent operators, retaining high profitable customers is the number one business goal. To reduce customer churn, telecom companies need to predict which customers are at high risk of churn. In this project, you will analyse customer-level data of a leading telecom firm, build predictive models to identify customers at high risk of churn and identify the main indicators of churn."
   ]
  },
  {
   "cell_type": "markdown",
   "id": "a06f9802",
   "metadata": {},
   "source": [
    "### Main Goals:\n",
    "For many incumbent operators, retaining high profitable customers is the number one business goal.\n",
    "To reduce customer churn, telecom companies need to predict which customers are at high risk of churn.\n",
    "In this project, you will analyse customer-level data of a leading telecom firm, build predictive models to identify customers at high risk of churn and identify the main indicators of churn."
   ]
  },
  {
   "cell_type": "markdown",
   "id": "f8cb6c96",
   "metadata": {},
   "source": [
    "## Understanding Customer Behaviour During Churn\n",
    "Customers usually do not decide to switch to another competitor instantly, but rather over a period of time (this is especially applicable to high-value customers). In churn prediction, we assume that there are three phases of customer lifecycle :\n",
    "\n",
    "The ‘good’ phase: In this phase, the customer is happy with the service and behaves as usual.\n",
    "\n",
    "The ‘action’ phase: The customer experience starts to sore in this phase, for e.g. he/she gets a compelling offer from a competitor, faces unjust charges, becomes unhappy with service quality etc. In this phase, the customer usually shows different behaviour than the ‘good’ months. Also, it is crucial to identify high-churn-risk customers in this phase, since some corrective actions can be taken at this point (such as matching the competitor’s offer/improving the service quality etc.)\n",
    "\n",
    "The ‘churn’ phase: In this phase, the customer is said to have churned. You define churn based on this phase. Also, it is important to note that at the time of prediction (i.e. the action months), this data is not available to you for prediction. Thus, after tagging churn as 1/0 based on this phase, you discard all data corresponding to this phase.\n",
    "\n",
    "In this case, since you are working over a four-month window, the first two months are the ‘good’ phase, the third month is the ‘action’ phase, while the fourth month is the ‘churn’ phase."
   ]
  },
  {
   "cell_type": "code",
   "execution_count": 31,
   "id": "99815dd5",
   "metadata": {},
   "outputs": [],
   "source": [
    "import warnings\n",
    "warnings.filterwarnings('ignore')\n",
    "import numpy as np\n",
    "import pandas as pd\n",
    "import matplotlib.pyplot as plt\n",
    "import seaborn as sns\n",
    "from sklearn.preprocessing import MinMaxScaler\n",
    "from sklearn.model_selection import train_test_split\n"
   ]
  },
  {
   "cell_type": "markdown",
   "id": "b3b4031b",
   "metadata": {},
   "source": [
    "## Data cleaning and preperation"
   ]
  },
  {
   "cell_type": "code",
   "execution_count": 32,
   "id": "e265f962",
   "metadata": {},
   "outputs": [],
   "source": [
    "df= pd.read_csv(\"telecom_churn_data.csv\")"
   ]
  },
  {
   "cell_type": "code",
   "execution_count": 33,
   "id": "5af875ea",
   "metadata": {},
   "outputs": [
    {
     "data": {
      "text/html": [
       "<div>\n",
       "<style scoped>\n",
       "    .dataframe tbody tr th:only-of-type {\n",
       "        vertical-align: middle;\n",
       "    }\n",
       "\n",
       "    .dataframe tbody tr th {\n",
       "        vertical-align: top;\n",
       "    }\n",
       "\n",
       "    .dataframe thead th {\n",
       "        text-align: right;\n",
       "    }\n",
       "</style>\n",
       "<table border=\"1\" class=\"dataframe\">\n",
       "  <thead>\n",
       "    <tr style=\"text-align: right;\">\n",
       "      <th></th>\n",
       "      <th>mobile_number</th>\n",
       "      <th>circle_id</th>\n",
       "      <th>loc_og_t2o_mou</th>\n",
       "      <th>std_og_t2o_mou</th>\n",
       "      <th>loc_ic_t2o_mou</th>\n",
       "      <th>last_date_of_month_6</th>\n",
       "      <th>last_date_of_month_7</th>\n",
       "      <th>last_date_of_month_8</th>\n",
       "      <th>last_date_of_month_9</th>\n",
       "      <th>arpu_6</th>\n",
       "      <th>...</th>\n",
       "      <th>sachet_3g_9</th>\n",
       "      <th>fb_user_6</th>\n",
       "      <th>fb_user_7</th>\n",
       "      <th>fb_user_8</th>\n",
       "      <th>fb_user_9</th>\n",
       "      <th>aon</th>\n",
       "      <th>aug_vbc_3g</th>\n",
       "      <th>jul_vbc_3g</th>\n",
       "      <th>jun_vbc_3g</th>\n",
       "      <th>sep_vbc_3g</th>\n",
       "    </tr>\n",
       "  </thead>\n",
       "  <tbody>\n",
       "    <tr>\n",
       "      <th>0</th>\n",
       "      <td>7000842753</td>\n",
       "      <td>109</td>\n",
       "      <td>0.0</td>\n",
       "      <td>0.0</td>\n",
       "      <td>0.0</td>\n",
       "      <td>6/30/2014</td>\n",
       "      <td>7/31/2014</td>\n",
       "      <td>8/31/2014</td>\n",
       "      <td>9/30/2014</td>\n",
       "      <td>197.385</td>\n",
       "      <td>...</td>\n",
       "      <td>0</td>\n",
       "      <td>1.0</td>\n",
       "      <td>1.0</td>\n",
       "      <td>1.0</td>\n",
       "      <td>NaN</td>\n",
       "      <td>968</td>\n",
       "      <td>30.4</td>\n",
       "      <td>0.0</td>\n",
       "      <td>101.20</td>\n",
       "      <td>3.58</td>\n",
       "    </tr>\n",
       "    <tr>\n",
       "      <th>1</th>\n",
       "      <td>7001865778</td>\n",
       "      <td>109</td>\n",
       "      <td>0.0</td>\n",
       "      <td>0.0</td>\n",
       "      <td>0.0</td>\n",
       "      <td>6/30/2014</td>\n",
       "      <td>7/31/2014</td>\n",
       "      <td>8/31/2014</td>\n",
       "      <td>9/30/2014</td>\n",
       "      <td>34.047</td>\n",
       "      <td>...</td>\n",
       "      <td>0</td>\n",
       "      <td>NaN</td>\n",
       "      <td>1.0</td>\n",
       "      <td>1.0</td>\n",
       "      <td>NaN</td>\n",
       "      <td>1006</td>\n",
       "      <td>0.0</td>\n",
       "      <td>0.0</td>\n",
       "      <td>0.00</td>\n",
       "      <td>0.00</td>\n",
       "    </tr>\n",
       "    <tr>\n",
       "      <th>2</th>\n",
       "      <td>7001625959</td>\n",
       "      <td>109</td>\n",
       "      <td>0.0</td>\n",
       "      <td>0.0</td>\n",
       "      <td>0.0</td>\n",
       "      <td>6/30/2014</td>\n",
       "      <td>7/31/2014</td>\n",
       "      <td>8/31/2014</td>\n",
       "      <td>9/30/2014</td>\n",
       "      <td>167.690</td>\n",
       "      <td>...</td>\n",
       "      <td>0</td>\n",
       "      <td>NaN</td>\n",
       "      <td>NaN</td>\n",
       "      <td>NaN</td>\n",
       "      <td>1.0</td>\n",
       "      <td>1103</td>\n",
       "      <td>0.0</td>\n",
       "      <td>0.0</td>\n",
       "      <td>4.17</td>\n",
       "      <td>0.00</td>\n",
       "    </tr>\n",
       "    <tr>\n",
       "      <th>3</th>\n",
       "      <td>7001204172</td>\n",
       "      <td>109</td>\n",
       "      <td>0.0</td>\n",
       "      <td>0.0</td>\n",
       "      <td>0.0</td>\n",
       "      <td>6/30/2014</td>\n",
       "      <td>7/31/2014</td>\n",
       "      <td>8/31/2014</td>\n",
       "      <td>9/30/2014</td>\n",
       "      <td>221.338</td>\n",
       "      <td>...</td>\n",
       "      <td>0</td>\n",
       "      <td>NaN</td>\n",
       "      <td>NaN</td>\n",
       "      <td>NaN</td>\n",
       "      <td>NaN</td>\n",
       "      <td>2491</td>\n",
       "      <td>0.0</td>\n",
       "      <td>0.0</td>\n",
       "      <td>0.00</td>\n",
       "      <td>0.00</td>\n",
       "    </tr>\n",
       "    <tr>\n",
       "      <th>4</th>\n",
       "      <td>7000142493</td>\n",
       "      <td>109</td>\n",
       "      <td>0.0</td>\n",
       "      <td>0.0</td>\n",
       "      <td>0.0</td>\n",
       "      <td>6/30/2014</td>\n",
       "      <td>7/31/2014</td>\n",
       "      <td>8/31/2014</td>\n",
       "      <td>9/30/2014</td>\n",
       "      <td>261.636</td>\n",
       "      <td>...</td>\n",
       "      <td>0</td>\n",
       "      <td>0.0</td>\n",
       "      <td>NaN</td>\n",
       "      <td>NaN</td>\n",
       "      <td>NaN</td>\n",
       "      <td>1526</td>\n",
       "      <td>0.0</td>\n",
       "      <td>0.0</td>\n",
       "      <td>0.00</td>\n",
       "      <td>0.00</td>\n",
       "    </tr>\n",
       "  </tbody>\n",
       "</table>\n",
       "<p>5 rows × 226 columns</p>\n",
       "</div>"
      ],
      "text/plain": [
       "   mobile_number  circle_id  loc_og_t2o_mou  std_og_t2o_mou  loc_ic_t2o_mou  \\\n",
       "0     7000842753        109             0.0             0.0             0.0   \n",
       "1     7001865778        109             0.0             0.0             0.0   \n",
       "2     7001625959        109             0.0             0.0             0.0   \n",
       "3     7001204172        109             0.0             0.0             0.0   \n",
       "4     7000142493        109             0.0             0.0             0.0   \n",
       "\n",
       "  last_date_of_month_6 last_date_of_month_7 last_date_of_month_8  \\\n",
       "0            6/30/2014            7/31/2014            8/31/2014   \n",
       "1            6/30/2014            7/31/2014            8/31/2014   \n",
       "2            6/30/2014            7/31/2014            8/31/2014   \n",
       "3            6/30/2014            7/31/2014            8/31/2014   \n",
       "4            6/30/2014            7/31/2014            8/31/2014   \n",
       "\n",
       "  last_date_of_month_9   arpu_6  ...  sachet_3g_9  fb_user_6  fb_user_7  \\\n",
       "0            9/30/2014  197.385  ...            0        1.0        1.0   \n",
       "1            9/30/2014   34.047  ...            0        NaN        1.0   \n",
       "2            9/30/2014  167.690  ...            0        NaN        NaN   \n",
       "3            9/30/2014  221.338  ...            0        NaN        NaN   \n",
       "4            9/30/2014  261.636  ...            0        0.0        NaN   \n",
       "\n",
       "   fb_user_8  fb_user_9   aon  aug_vbc_3g  jul_vbc_3g  jun_vbc_3g  sep_vbc_3g  \n",
       "0        1.0        NaN   968        30.4         0.0      101.20        3.58  \n",
       "1        1.0        NaN  1006         0.0         0.0        0.00        0.00  \n",
       "2        NaN        1.0  1103         0.0         0.0        4.17        0.00  \n",
       "3        NaN        NaN  2491         0.0         0.0        0.00        0.00  \n",
       "4        NaN        NaN  1526         0.0         0.0        0.00        0.00  \n",
       "\n",
       "[5 rows x 226 columns]"
      ]
     },
     "execution_count": 33,
     "metadata": {},
     "output_type": "execute_result"
    }
   ],
   "source": [
    "df.head()"
   ]
  },
  {
   "cell_type": "code",
   "execution_count": 34,
   "id": "64c3379c",
   "metadata": {},
   "outputs": [
    {
     "data": {
      "text/plain": [
       "(99999, 226)"
      ]
     },
     "execution_count": 34,
     "metadata": {},
     "output_type": "execute_result"
    }
   ],
   "source": [
    "df.shape"
   ]
  },
  {
   "cell_type": "code",
   "execution_count": 35,
   "id": "537b1a69",
   "metadata": {},
   "outputs": [
    {
     "data": {
      "text/plain": [
       "arpu_3g_6            75.0\n",
       "night_pck_user_6     75.0\n",
       "total_rech_data_6    75.0\n",
       "arpu_2g_6            75.0\n",
       "max_rech_data_6      75.0\n",
       "                     ... \n",
       "max_rech_amt_7        0.0\n",
       "max_rech_amt_6        0.0\n",
       "total_rech_amt_9      0.0\n",
       "total_rech_amt_8      0.0\n",
       "sep_vbc_3g            0.0\n",
       "Length: 226, dtype: float64"
      ]
     },
     "execution_count": 35,
     "metadata": {},
     "output_type": "execute_result"
    }
   ],
   "source": [
    "round(100 *(df.isnull().sum()/len(df)).sort_values(ascending=False))"
   ]
  },
  {
   "cell_type": "markdown",
   "id": "95b8e945",
   "metadata": {},
   "source": [
    "#### Dropping  columns with missing values more than 60 %"
   ]
  },
  {
   "cell_type": "code",
   "execution_count": 36,
   "id": "4d647427",
   "metadata": {},
   "outputs": [
    {
     "data": {
      "text/plain": [
       "Index(['date_of_last_rech_data_6', 'date_of_last_rech_data_7',\n",
       "       'date_of_last_rech_data_8', 'date_of_last_rech_data_9',\n",
       "       'total_rech_data_6', 'total_rech_data_7', 'total_rech_data_8',\n",
       "       'total_rech_data_9', 'max_rech_data_6', 'max_rech_data_7',\n",
       "       'max_rech_data_8', 'max_rech_data_9', 'count_rech_2g_6',\n",
       "       'count_rech_2g_7', 'count_rech_2g_8', 'count_rech_2g_9',\n",
       "       'count_rech_3g_6', 'count_rech_3g_7', 'count_rech_3g_8',\n",
       "       'count_rech_3g_9', 'av_rech_amt_data_6', 'av_rech_amt_data_7',\n",
       "       'av_rech_amt_data_8', 'av_rech_amt_data_9', 'arpu_3g_6', 'arpu_3g_7',\n",
       "       'arpu_3g_8', 'arpu_3g_9', 'arpu_2g_6', 'arpu_2g_7', 'arpu_2g_8',\n",
       "       'arpu_2g_9', 'night_pck_user_6', 'night_pck_user_7', 'night_pck_user_8',\n",
       "       'night_pck_user_9', 'fb_user_6', 'fb_user_7', 'fb_user_8', 'fb_user_9'],\n",
       "      dtype='object')"
      ]
     },
     "execution_count": 36,
     "metadata": {},
     "output_type": "execute_result"
    }
   ],
   "source": [
    "missing = 100 *(df.isnull().sum()/len(df))\n",
    "cols_tdrop = missing[missing > 60].index \n",
    "cols_tdrop"
   ]
  },
  {
   "cell_type": "code",
   "execution_count": 37,
   "id": "ecb8ac7c",
   "metadata": {},
   "outputs": [
    {
     "data": {
      "text/plain": [
       "(99999, 186)"
      ]
     },
     "execution_count": 37,
     "metadata": {},
     "output_type": "execute_result"
    }
   ],
   "source": [
    "df = df.drop(columns=cols_tdrop)\n",
    "df.shape"
   ]
  },
  {
   "cell_type": "markdown",
   "id": "a8685d2f",
   "metadata": {},
   "source": [
    "Dropping date columns as it wont add more value to our analysis"
   ]
  },
  {
   "cell_type": "code",
   "execution_count": 38,
   "id": "3be971bb",
   "metadata": {},
   "outputs": [],
   "source": [
    "date_cols_drop = [col for col in df.columns if 'date' in col]\n",
    "df= df.drop(columns=date_cols_drop)"
   ]
  },
  {
   "cell_type": "code",
   "execution_count": 39,
   "id": "a65b5799",
   "metadata": {},
   "outputs": [
    {
     "data": {
      "text/plain": [
       "(99999, 178)"
      ]
     },
     "execution_count": 39,
     "metadata": {},
     "output_type": "execute_result"
    }
   ],
   "source": [
    "df.shape"
   ]
  },
  {
   "cell_type": "markdown",
   "id": "bc97aa03",
   "metadata": {},
   "source": [
    "Dropping columns having a single unique value as it wont add any value for our analysis"
   ]
  },
  {
   "cell_type": "code",
   "execution_count": 40,
   "id": "70520a96",
   "metadata": {},
   "outputs": [
    {
     "data": {
      "text/plain": [
       "Index(['circle_id', 'loc_og_t2o_mou', 'std_og_t2o_mou', 'loc_ic_t2o_mou',\n",
       "       'std_og_t2c_mou_6', 'std_og_t2c_mou_7', 'std_og_t2c_mou_8',\n",
       "       'std_og_t2c_mou_9', 'std_ic_t2o_mou_6', 'std_ic_t2o_mou_7',\n",
       "       'std_ic_t2o_mou_8', 'std_ic_t2o_mou_9'],\n",
       "      dtype='object')"
      ]
     },
     "execution_count": 40,
     "metadata": {},
     "output_type": "execute_result"
    }
   ],
   "source": [
    "df_unique_col = df.loc[:,df.nunique()==1]\n",
    "cols_todrop= df_unique_col.columns\n",
    "cols_todrop"
   ]
  },
  {
   "cell_type": "code",
   "execution_count": 41,
   "id": "fa57ff13",
   "metadata": {},
   "outputs": [
    {
     "data": {
      "text/plain": [
       "(99999, 166)"
      ]
     },
     "execution_count": 41,
     "metadata": {},
     "output_type": "execute_result"
    }
   ],
   "source": [
    "df.drop(columns= cols_todrop,inplace=True)\n",
    "df.shape"
   ]
  },
  {
   "cell_type": "markdown",
   "id": "77b52ce6",
   "metadata": {},
   "source": [
    "Dropping mobile number column"
   ]
  },
  {
   "cell_type": "code",
   "execution_count": 42,
   "id": "67e5aa98",
   "metadata": {},
   "outputs": [],
   "source": [
    "df.drop(columns=[\"mobile_number\"],inplace=True)"
   ]
  },
  {
   "cell_type": "code",
   "execution_count": 43,
   "id": "8c6701d8",
   "metadata": {},
   "outputs": [
    {
     "data": {
      "text/plain": [
       "(99999, 165)"
      ]
     },
     "execution_count": 43,
     "metadata": {},
     "output_type": "execute_result"
    }
   ],
   "source": [
    "df.shape"
   ]
  },
  {
   "cell_type": "markdown",
   "id": "af47d175",
   "metadata": {},
   "source": [
    "Removing the rows with missing values "
   ]
  },
  {
   "cell_type": "code",
   "execution_count": 44,
   "id": "df635658",
   "metadata": {},
   "outputs": [],
   "source": [
    "df= df.dropna()"
   ]
  },
  {
   "cell_type": "code",
   "execution_count": 45,
   "id": "c3fe9e80",
   "metadata": {},
   "outputs": [
    {
     "data": {
      "text/plain": [
       "(88327, 165)"
      ]
     },
     "execution_count": 45,
     "metadata": {},
     "output_type": "execute_result"
    }
   ],
   "source": [
    "df.shape"
   ]
  },
  {
   "cell_type": "code",
   "execution_count": 46,
   "id": "99578787",
   "metadata": {},
   "outputs": [
    {
     "data": {
      "text/plain": [
       "arpu_6            0.0\n",
       "total_ic_mou_6    0.0\n",
       "total_ic_mou_8    0.0\n",
       "total_ic_mou_9    0.0\n",
       "spl_ic_mou_6      0.0\n",
       "                 ... \n",
       "isd_og_mou_6      0.0\n",
       "isd_og_mou_7      0.0\n",
       "isd_og_mou_8      0.0\n",
       "isd_og_mou_9      0.0\n",
       "sep_vbc_3g        0.0\n",
       "Length: 165, dtype: float64"
      ]
     },
     "execution_count": 46,
     "metadata": {},
     "output_type": "execute_result"
    }
   ],
   "source": [
    "round(100 *(df.isnull().sum()/len(df)).sort_values(ascending=False))"
   ]
  },
  {
   "cell_type": "markdown",
   "id": "cf15e6ef",
   "metadata": {},
   "source": [
    "#### Filtering high value customers"
   ]
  },
  {
   "cell_type": "code",
   "execution_count": 47,
   "id": "7ddeb4f6",
   "metadata": {},
   "outputs": [
    {
     "data": {
      "text/plain": [
       "383.0"
      ]
     },
     "execution_count": 47,
     "metadata": {},
     "output_type": "execute_result"
    }
   ],
   "source": [
    "## getting average recharge amount in June and July\n",
    "df[\"avg_recharge_amt\"] = (df['total_rech_amt_6'] + df['total_rech_amt_7'])/2\n",
    "threshold= df[\"avg_recharge_amt\"].quantile(0.7)\n",
    "threshold"
   ]
  },
  {
   "cell_type": "code",
   "execution_count": 48,
   "id": "9fd8b296",
   "metadata": {},
   "outputs": [
    {
     "data": {
      "text/plain": [
       "(26464, 166)"
      ]
     },
     "execution_count": 48,
     "metadata": {},
     "output_type": "execute_result"
    }
   ],
   "source": [
    "## filtering high value customers whose avg_recharge amount is greater than threshold value\n",
    "high_val_cust = df[df[\"avg_recharge_amt\"] > threshold]\n",
    "high_val_cust.shape"
   ]
  },
  {
   "cell_type": "markdown",
   "id": "444455ad",
   "metadata": {},
   "source": [
    "#### Tag the churners based on the below attributes"
   ]
  },
  {
   "cell_type": "code",
   "execution_count": 49,
   "id": "57ad44cd",
   "metadata": {},
   "outputs": [],
   "source": [
    "high_val_cust['churn'] = np.where((high_val_cust['total_ic_mou_9'] == 0) &\n",
    "                                  (high_val_cust['total_og_mou_9'] == 0) &\n",
    "                                  (high_val_cust['vol_2g_mb_9'] == 0) &\n",
    "                                  (high_val_cust['vol_3g_mb_9'] == 0),1,0)"
   ]
  },
  {
   "cell_type": "markdown",
   "id": "5f344392",
   "metadata": {},
   "source": [
    "#### Remove all the attributes corresponding to the churn phase"
   ]
  },
  {
   "cell_type": "code",
   "execution_count": 50,
   "id": "9b87ade4",
   "metadata": {},
   "outputs": [],
   "source": [
    "cols_todrop = [col for col in high_val_cust.columns if col.endswith('_9') ]"
   ]
  },
  {
   "cell_type": "code",
   "execution_count": 51,
   "id": "924ad68e",
   "metadata": {},
   "outputs": [],
   "source": [
    "high_val_cust = high_val_cust.drop(columns=cols_todrop)"
   ]
  },
  {
   "cell_type": "code",
   "execution_count": 52,
   "id": "3d8bb5ae",
   "metadata": {
    "scrolled": true
   },
   "outputs": [
    {
     "data": {
      "text/plain": [
       "(26464, 127)"
      ]
     },
     "execution_count": 52,
     "metadata": {},
     "output_type": "execute_result"
    }
   ],
   "source": [
    "high_val_cust.shape"
   ]
  },
  {
   "cell_type": "markdown",
   "id": "656b377f",
   "metadata": {},
   "source": [
    "#### Deriving new features"
   ]
  },
  {
   "cell_type": "code",
   "execution_count": 53,
   "id": "e16d7261",
   "metadata": {},
   "outputs": [],
   "source": [
    "## Change in recharge amount (btw 8th and 6th month)\n",
    "df1 = high_val_cust\n"
   ]
  },
  {
   "cell_type": "code",
   "execution_count": 54,
   "id": "c0ac63fe",
   "metadata": {},
   "outputs": [
    {
     "data": {
      "text/plain": [
       "8    -317\n",
       "16   -410\n",
       "17   -786\n",
       "21    118\n",
       "24     50\n",
       "Name: change_rech_mon_6_8, dtype: int64"
      ]
     },
     "execution_count": 54,
     "metadata": {},
     "output_type": "execute_result"
    }
   ],
   "source": [
    "df1[\"change_rech_mon_6_8\"] = df1['total_rech_amt_8'] - df1['total_rech_amt_6']\n",
    "df1[\"change_rech_mon_6_8\"].head()"
   ]
  },
  {
   "cell_type": "code",
   "execution_count": 55,
   "id": "7b38ab95",
   "metadata": {},
   "outputs": [
    {
     "data": {
      "text/plain": [
       "8     11.97\n",
       "16     0.00\n",
       "17     0.00\n",
       "21     0.00\n",
       "24     0.00\n",
       "Name: change_data_usg_6_8, dtype: float64"
      ]
     },
     "execution_count": 55,
     "metadata": {},
     "output_type": "execute_result"
    }
   ],
   "source": [
    " ## Change in data usage (btw 8th and 6th month)\n",
    "df1[\"change_data_usg_6_8\"]   = (df1['vol_2g_mb_8']+df1['vol_3g_mb_8']) - (df1['vol_2g_mb_6']+df1['vol_3g_mb_6'])\n",
    "df1[\"change_data_usg_6_8\"].head()"
   ]
  },
  {
   "cell_type": "markdown",
   "id": "b804cf9f",
   "metadata": {},
   "source": [
    "## Data Visualization"
   ]
  },
  {
   "cell_type": "code",
   "execution_count": 56,
   "id": "019ccc22",
   "metadata": {},
   "outputs": [
    {
     "data": {
      "text/plain": [
       "<Axes: xlabel='churn', ylabel='count'>"
      ]
     },
     "execution_count": 56,
     "metadata": {},
     "output_type": "execute_result"
    },
    {
     "data": {
      "image/png": "[encoded data removed]",
      "text/plain": [
       "<Figure size 500x300 with 1 Axes>"
      ]
     },
     "metadata": {},
     "output_type": "display_data"
    }
   ],
   "source": [
    "plt.figure(figsize=[5,3])\n",
    "sns.countplot(data= df1,x='churn')"
   ]
  },
  {
   "cell_type": "code",
   "execution_count": 57,
   "id": "64e336fa",
   "metadata": {},
   "outputs": [
    {
     "data": {
      "text/plain": [
       "churn\n",
       "0    25570\n",
       "1      894\n",
       "Name: count, dtype: int64"
      ]
     },
     "execution_count": 57,
     "metadata": {},
     "output_type": "execute_result"
    }
   ],
   "source": [
    "df1['churn'].value_counts()"
   ]
  },
  {
   "cell_type": "markdown",
   "id": "1cc9b5a2",
   "metadata": {},
   "source": [
    "We can clearly see a data imbalance here. So we need to handle this using appropriate techinque."
   ]
  },
  {
   "cell_type": "code",
   "execution_count": 58,
   "id": "4f1e4c45",
   "metadata": {},
   "outputs": [
    {
     "data": {
      "text/plain": [
       "<Axes: xlabel='arpu_8', ylabel='Density'>"
      ]
     },
     "execution_count": 58,
     "metadata": {},
     "output_type": "execute_result"
    },
    {
     "data": {
      "image/png": "[encoded data removed]",
      "text/plain": [
       "<Figure size 2000x1000 with 3 Axes>"
      ]
     },
     "metadata": {},
     "output_type": "display_data"
    }
   ],
   "source": [
    "plt.figure(figsize=[20,10])\n",
    "plt.subplot(2,2,1)\n",
    "sns.distplot(df1.arpu_6)\n",
    "plt.subplot(2,2,2)\n",
    "sns.distplot(df1.arpu_7)\n",
    "plt.subplot(2,2,3)\n",
    "sns.distplot(df1.arpu_8)"
   ]
  },
  {
   "cell_type": "code",
   "execution_count": 59,
   "id": "e6d00d4a",
   "metadata": {},
   "outputs": [],
   "source": [
    "df1.churn= df1.churn.astype('category')"
   ]
  },
  {
   "cell_type": "code",
   "execution_count": 60,
   "id": "88d8de43",
   "metadata": {},
   "outputs": [
    {
     "data": {
      "image/png": "[encoded data removed]",
      "text/plain": [
       "<Figure size 2000x1000 with 3 Axes>"
      ]
     },
     "metadata": {},
     "output_type": "display_data"
    }
   ],
   "source": [
    "plt.figure(figsize=[20,10])\n",
    "plt.subplot(2,3,1)\n",
    "sns.boxplot(data=df1,x='churn',y='aon')\n",
    "plt.subplot(2,3,2)\n",
    "sns.boxplot(data=df1,x='churn',y='change_rech_mon_6_8')\n",
    "plt.subplot(2,3,3)\n",
    "sns.boxplot(data=df1,x='churn',y=\"change_data_usg_6_8\")\n",
    "plt.show()\n"
   ]
  },
  {
   "cell_type": "markdown",
   "id": "2832638f",
   "metadata": {},
   "source": [
    "Assigning X and y values for target and response variables"
   ]
  },
  {
   "cell_type": "code",
   "execution_count": 61,
   "id": "50ab8180",
   "metadata": {},
   "outputs": [],
   "source": [
    "X = df1.drop('churn',axis=1)"
   ]
  },
  {
   "cell_type": "code",
   "execution_count": 62,
   "id": "3bc77c49",
   "metadata": {},
   "outputs": [],
   "source": [
    "y= df1.churn\n"
   ]
  },
  {
   "cell_type": "markdown",
   "id": "0aa8d2d2",
   "metadata": {},
   "source": [
    "## Test train split"
   ]
  },
  {
   "cell_type": "code",
   "execution_count": 63,
   "id": "836d2088",
   "metadata": {},
   "outputs": [],
   "source": [
    "from sklearn.model_selection import train_test_split"
   ]
  },
  {
   "cell_type": "code",
   "execution_count": 64,
   "id": "82462969",
   "metadata": {},
   "outputs": [],
   "source": [
    "X_train,X_test,y_train,y_test = train_test_split(X,y,train_size=.7,random_state=42)"
   ]
  },
  {
   "cell_type": "markdown",
   "id": "65588977",
   "metadata": {},
   "source": [
    "## Feature Scaling and Dimensionality Reduction (PCA)"
   ]
  },
  {
   "cell_type": "markdown",
   "id": "fc84527d",
   "metadata": {},
   "source": [
    "#### Reduce the number of components using PCA"
   ]
  },
  {
   "cell_type": "code",
   "execution_count": 65,
   "id": "033d00a2",
   "metadata": {
    "collapsed": true
   },
   "outputs": [
    {
     "data": {
      "text/plain": [
       "['arpu_6',\n",
       " 'arpu_7',\n",
       " 'arpu_8',\n",
       " 'onnet_mou_6',\n",
       " 'onnet_mou_7',\n",
       " 'onnet_mou_8',\n",
       " 'offnet_mou_6',\n",
       " 'offnet_mou_7',\n",
       " 'offnet_mou_8',\n",
       " 'roam_ic_mou_6',\n",
       " 'roam_ic_mou_7',\n",
       " 'roam_ic_mou_8',\n",
       " 'roam_og_mou_6',\n",
       " 'roam_og_mou_7',\n",
       " 'roam_og_mou_8',\n",
       " 'loc_og_t2t_mou_6',\n",
       " 'loc_og_t2t_mou_7',\n",
       " 'loc_og_t2t_mou_8',\n",
       " 'loc_og_t2m_mou_6',\n",
       " 'loc_og_t2m_mou_7',\n",
       " 'loc_og_t2m_mou_8',\n",
       " 'loc_og_t2f_mou_6',\n",
       " 'loc_og_t2f_mou_7',\n",
       " 'loc_og_t2f_mou_8',\n",
       " 'loc_og_t2c_mou_6',\n",
       " 'loc_og_t2c_mou_7',\n",
       " 'loc_og_t2c_mou_8',\n",
       " 'loc_og_mou_6',\n",
       " 'loc_og_mou_7',\n",
       " 'loc_og_mou_8',\n",
       " 'std_og_t2t_mou_6',\n",
       " 'std_og_t2t_mou_7',\n",
       " 'std_og_t2t_mou_8',\n",
       " 'std_og_t2m_mou_6',\n",
       " 'std_og_t2m_mou_7',\n",
       " 'std_og_t2m_mou_8',\n",
       " 'std_og_t2f_mou_6',\n",
       " 'std_og_t2f_mou_7',\n",
       " 'std_og_t2f_mou_8',\n",
       " 'std_og_mou_6',\n",
       " 'std_og_mou_7',\n",
       " 'std_og_mou_8',\n",
       " 'isd_og_mou_6',\n",
       " 'isd_og_mou_7',\n",
       " 'isd_og_mou_8',\n",
       " 'spl_og_mou_6',\n",
       " 'spl_og_mou_7',\n",
       " 'spl_og_mou_8',\n",
       " 'og_others_6',\n",
       " 'og_others_7',\n",
       " 'og_others_8',\n",
       " 'total_og_mou_6',\n",
       " 'total_og_mou_7',\n",
       " 'total_og_mou_8',\n",
       " 'loc_ic_t2t_mou_6',\n",
       " 'loc_ic_t2t_mou_7',\n",
       " 'loc_ic_t2t_mou_8',\n",
       " 'loc_ic_t2m_mou_6',\n",
       " 'loc_ic_t2m_mou_7',\n",
       " 'loc_ic_t2m_mou_8',\n",
       " 'loc_ic_t2f_mou_6',\n",
       " 'loc_ic_t2f_mou_7',\n",
       " 'loc_ic_t2f_mou_8',\n",
       " 'loc_ic_mou_6',\n",
       " 'loc_ic_mou_7',\n",
       " 'loc_ic_mou_8',\n",
       " 'std_ic_t2t_mou_6',\n",
       " 'std_ic_t2t_mou_7',\n",
       " 'std_ic_t2t_mou_8',\n",
       " 'std_ic_t2m_mou_6',\n",
       " 'std_ic_t2m_mou_7',\n",
       " 'std_ic_t2m_mou_8',\n",
       " 'std_ic_t2f_mou_6',\n",
       " 'std_ic_t2f_mou_7',\n",
       " 'std_ic_t2f_mou_8',\n",
       " 'std_ic_mou_6',\n",
       " 'std_ic_mou_7',\n",
       " 'std_ic_mou_8',\n",
       " 'total_ic_mou_6',\n",
       " 'total_ic_mou_7',\n",
       " 'total_ic_mou_8',\n",
       " 'spl_ic_mou_6',\n",
       " 'spl_ic_mou_7',\n",
       " 'spl_ic_mou_8',\n",
       " 'isd_ic_mou_6',\n",
       " 'isd_ic_mou_7',\n",
       " 'isd_ic_mou_8',\n",
       " 'ic_others_6',\n",
       " 'ic_others_7',\n",
       " 'ic_others_8',\n",
       " 'total_rech_num_6',\n",
       " 'total_rech_num_7',\n",
       " 'total_rech_num_8',\n",
       " 'total_rech_amt_6',\n",
       " 'total_rech_amt_7',\n",
       " 'total_rech_amt_8',\n",
       " 'max_rech_amt_6',\n",
       " 'max_rech_amt_7',\n",
       " 'max_rech_amt_8',\n",
       " 'last_day_rch_amt_6',\n",
       " 'last_day_rch_amt_7',\n",
       " 'last_day_rch_amt_8',\n",
       " 'vol_2g_mb_6',\n",
       " 'vol_2g_mb_7',\n",
       " 'vol_2g_mb_8',\n",
       " 'vol_3g_mb_6',\n",
       " 'vol_3g_mb_7',\n",
       " 'vol_3g_mb_8',\n",
       " 'monthly_2g_6',\n",
       " 'monthly_2g_7',\n",
       " 'monthly_2g_8',\n",
       " 'sachet_2g_6',\n",
       " 'sachet_2g_7',\n",
       " 'sachet_2g_8',\n",
       " 'monthly_3g_6',\n",
       " 'monthly_3g_7',\n",
       " 'monthly_3g_8',\n",
       " 'sachet_3g_6',\n",
       " 'sachet_3g_7',\n",
       " 'sachet_3g_8',\n",
       " 'aon',\n",
       " 'aug_vbc_3g',\n",
       " 'jul_vbc_3g',\n",
       " 'jun_vbc_3g',\n",
       " 'sep_vbc_3g',\n",
       " 'avg_recharge_amt',\n",
       " 'change_rech_mon_6_8',\n",
       " 'change_data_usg_6_8']"
      ]
     },
     "execution_count": 65,
     "metadata": {},
     "output_type": "execute_result"
    }
   ],
   "source": [
    "numerical_cols = df1.select_dtypes(include=['int64', 'float64','int32']).columns\n",
    "numerical_cols.to_list()"
   ]
  },
  {
   "cell_type": "markdown",
   "id": "8d727d4d",
   "metadata": {},
   "source": [
    "#### Scaling the data"
   ]
  },
  {
   "cell_type": "code",
   "execution_count": 66,
   "id": "61103f51",
   "metadata": {},
   "outputs": [],
   "source": [
    "from sklearn.preprocessing import StandardScaler\n",
    "scaler = StandardScaler()\n",
    "X_train[numerical_cols] = scaler.fit_transform(X_train[numerical_cols])\n",
    "X_test[numerical_cols] = scaler.transform(X_test[numerical_cols])"
   ]
  },
  {
   "cell_type": "markdown",
   "id": "fb1a4038",
   "metadata": {},
   "source": [
    "#### PCA"
   ]
  },
  {
   "cell_type": "code",
   "execution_count": 67,
   "id": "cd82ad0f",
   "metadata": {},
   "outputs": [],
   "source": [
    "from sklearn.decomposition import PCA"
   ]
  },
  {
   "cell_type": "code",
   "execution_count": 68,
   "id": "d768c428",
   "metadata": {},
   "outputs": [
    {
     "data": {
      "text/html": [
       "<style>#sk-container-id-1 {color: black;}#sk-container-id-1 pre{padding: 0;}#sk-container-id-1 div.sk-toggleable {background-color: white;}#sk-container-id-1 label.sk-toggleable__label {cursor: pointer;display: block;width: 100%;margin-bottom: 0;padding: 0.3em;box-sizing: border-box;text-align: center;}#sk-container-id-1 label.sk-toggleable__label-arrow:before {content: \"▸\";float: left;margin-right: 0.25em;color: #696969;}#sk-container-id-1 label.sk-toggleable__label-arrow:hover:before {color: black;}#sk-container-id-1 div.sk-estimator:hover label.sk-toggleable__label-arrow:before {color: black;}#sk-container-id-1 div.sk-toggleable__content {max-height: 0;max-width: 0;overflow: hidden;text-align: left;background-color: #f0f8ff;}#sk-container-id-1 div.sk-toggleable__content pre {margin: 0.2em;color: black;border-radius: 0.25em;background-color: #f0f8ff;}#sk-container-id-1 input.sk-toggleable__control:checked~div.sk-toggleable__content {max-height: 200px;max-width: 100%;overflow: auto;}#sk-container-id-1 input.sk-toggleable__control:checked~label.sk-toggleable__label-arrow:before {content: \"▾\";}#sk-container-id-1 div.sk-estimator input.sk-toggleable__control:checked~label.sk-toggleable__label {background-color: #d4ebff;}#sk-container-id-1 div.sk-label input.sk-toggleable__control:checked~label.sk-toggleable__label {background-color: #d4ebff;}#sk-container-id-1 input.sk-hidden--visually {border: 0;clip: rect(1px 1px 1px 1px);clip: rect(1px, 1px, 1px, 1px);height: 1px;margin: -1px;overflow: hidden;padding: 0;position: absolute;width: 1px;}#sk-container-id-1 div.sk-estimator {font-family: monospace;background-color: #f0f8ff;border: 1px dotted black;border-radius: 0.25em;box-sizing: border-box;margin-bottom: 0.5em;}#sk-container-id-1 div.sk-estimator:hover {background-color: #d4ebff;}#sk-container-id-1 div.sk-parallel-item::after {content: \"\";width: 100%;border-bottom: 1px solid gray;flex-grow: 1;}#sk-container-id-1 div.sk-label:hover label.sk-toggleable__label {background-color: #d4ebff;}#sk-container-id-1 div.sk-serial::before {content: \"\";position: absolute;border-left: 1px solid gray;box-sizing: border-box;top: 0;bottom: 0;left: 50%;z-index: 0;}#sk-container-id-1 div.sk-serial {display: flex;flex-direction: column;align-items: center;background-color: white;padding-right: 0.2em;padding-left: 0.2em;position: relative;}#sk-container-id-1 div.sk-item {position: relative;z-index: 1;}#sk-container-id-1 div.sk-parallel {display: flex;align-items: stretch;justify-content: center;background-color: white;position: relative;}#sk-container-id-1 div.sk-item::before, #sk-container-id-1 div.sk-parallel-item::before {content: \"\";position: absolute;border-left: 1px solid gray;box-sizing: border-box;top: 0;bottom: 0;left: 50%;z-index: -1;}#sk-container-id-1 div.sk-parallel-item {display: flex;flex-direction: column;z-index: 1;position: relative;background-color: white;}#sk-container-id-1 div.sk-parallel-item:first-child::after {align-self: flex-end;width: 50%;}#sk-container-id-1 div.sk-parallel-item:last-child::after {align-self: flex-start;width: 50%;}#sk-container-id-1 div.sk-parallel-item:only-child::after {width: 0;}#sk-container-id-1 div.sk-dashed-wrapped {border: 1px dashed gray;margin: 0 0.4em 0.5em 0.4em;box-sizing: border-box;padding-bottom: 0.4em;background-color: white;}#sk-container-id-1 div.sk-label label {font-family: monospace;font-weight: bold;display: inline-block;line-height: 1.2em;}#sk-container-id-1 div.sk-label-container {text-align: center;}#sk-container-id-1 div.sk-container {/* jupyter's `normalize.less` sets `[hidden] { display: none; }` but bootstrap.min.css set `[hidden] { display: none !important; }` so we also need the `!important` here to be able to override the default hidden behavior on the sphinx rendered scikit-learn.org. See: https://github.com/scikit-learn/scikit-learn/issues/21755 */display: inline-block !important;position: relative;}#sk-container-id-1 div.sk-text-repr-fallback {display: none;}</style><div id=\"sk-container-id-1\" class=\"sk-top-container\"><div class=\"sk-text-repr-fallback\"><pre>PCA(random_state=42)</pre><b>In a Jupyter environment, please rerun this cell to show the HTML representation or trust the notebook. <br />On GitHub, the HTML representation is unable to render, please try loading this page with nbviewer.org.</b></div><div class=\"sk-container\" hidden><div class=\"sk-item\"><div class=\"sk-estimator sk-toggleable\"><input class=\"sk-toggleable__control sk-hidden--visually\" id=\"sk-estimator-id-1\" type=\"checkbox\" checked><label for=\"sk-estimator-id-1\" class=\"sk-toggleable__label sk-toggleable__label-arrow\">PCA</label><div class=\"sk-toggleable__content\"><pre>PCA(random_state=42)</pre></div></div></div></div></div>"
      ],
      "text/plain": [
       "PCA(random_state=42)"
      ]
     },
     "execution_count": 68,
     "metadata": {},
     "output_type": "execute_result"
    }
   ],
   "source": [
    "pca= PCA(random_state=42)\n",
    "pca.fit(X_train)"
   ]
  },
  {
   "cell_type": "code",
   "execution_count": 69,
   "id": "d06f39a0",
   "metadata": {},
   "outputs": [
    {
     "data": {
      "text/plain": [
       "array([1.00027835e-01, 8.95637919e-02, 5.68471875e-02, 4.74676560e-02,\n",
       "       3.88165116e-02, 3.70242255e-02, 2.90566534e-02, 2.78195031e-02,\n",
       "       2.73583078e-02, 2.60357423e-02, 2.40609028e-02, 2.28517316e-02,\n",
       "       2.16701614e-02, 2.07112965e-02, 2.03419259e-02, 1.91203140e-02,\n",
       "       1.62287530e-02, 1.45032128e-02, 1.39042723e-02, 1.37943369e-02,\n",
       "       1.32888225e-02, 1.30640967e-02, 1.22467317e-02, 1.16770797e-02,\n",
       "       1.11405107e-02, 1.03211742e-02, 9.96963510e-03, 9.73161634e-03,\n",
       "       9.30528522e-03, 9.15264438e-03, 8.10259341e-03, 7.66585953e-03,\n",
       "       7.32577839e-03, 7.22241199e-03, 7.06908655e-03, 6.62387730e-03,\n",
       "       6.38330460e-03, 6.32870619e-03, 6.21032958e-03, 5.99086784e-03,\n",
       "       5.89693033e-03, 5.63154341e-03, 5.44097912e-03, 5.43093866e-03,\n",
       "       5.17558522e-03, 5.07669897e-03, 4.97042397e-03, 4.75806828e-03,\n",
       "       4.26884512e-03, 4.01184070e-03, 3.90278602e-03, 3.85903251e-03,\n",
       "       3.69659248e-03, 3.63869568e-03, 3.56308184e-03, 3.41368822e-03,\n",
       "       3.34392337e-03, 3.31443662e-03, 3.28828932e-03, 3.09547225e-03,\n",
       "       3.05598916e-03, 3.03701724e-03, 2.97392245e-03, 2.80733999e-03,\n",
       "       2.71321379e-03, 2.63486230e-03, 2.47483479e-03, 2.42963270e-03,\n",
       "       2.32079433e-03, 2.27635770e-03, 2.21488144e-03, 2.10239456e-03,\n",
       "       2.04035459e-03, 1.99424613e-03, 1.95812665e-03, 1.90323641e-03,\n",
       "       1.89538110e-03, 1.84892243e-03, 1.79373062e-03, 1.71421310e-03,\n",
       "       1.66848011e-03, 1.64958182e-03, 1.62591448e-03, 1.56588891e-03,\n",
       "       1.54495532e-03, 1.52926045e-03, 1.49525683e-03, 1.30881535e-03,\n",
       "       1.27241837e-03, 1.19106726e-03, 1.16366522e-03, 1.13720081e-03,\n",
       "       1.01600136e-03, 8.50506881e-04, 7.33158184e-04, 6.03583877e-04,\n",
       "       4.36792535e-04, 3.91445053e-04, 2.63155636e-04, 2.39617275e-04,\n",
       "       2.18943682e-04, 6.06144277e-05, 2.63854420e-05, 1.16951282e-05,\n",
       "       2.64357638e-06, 5.09251680e-07, 4.05560633e-07, 9.19719788e-12,\n",
       "       4.30925010e-12, 3.76396057e-12, 3.19496991e-12, 2.01749420e-12,\n",
       "       1.78364916e-12, 1.39041301e-12, 1.24525251e-12, 9.48593663e-13,\n",
       "       9.17183002e-13, 8.94655945e-13, 8.69657061e-13, 6.31140102e-13,\n",
       "       3.88897522e-13, 3.34721554e-13, 2.39583898e-13, 1.78611970e-13,\n",
       "       1.62460463e-13, 1.97270121e-32, 3.41067399e-33, 1.85424539e-33])"
      ]
     },
     "execution_count": 69,
     "metadata": {},
     "output_type": "execute_result"
    }
   ],
   "source": [
    "pca.explained_variance_ratio_"
   ]
  },
  {
   "cell_type": "code",
   "execution_count": 70,
   "id": "ca7cce28",
   "metadata": {},
   "outputs": [],
   "source": [
    "cum_var = np.cumsum(pca.explained_variance_ratio_)"
   ]
  },
  {
   "cell_type": "markdown",
   "id": "30ea510d",
   "metadata": {},
   "source": [
    "Plotting the scree plot"
   ]
  },
  {
   "cell_type": "code",
   "execution_count": 71,
   "id": "5d2edba5",
   "metadata": {},
   "outputs": [
    {
     "data": {
      "text/plain": [
       "[<matplotlib.lines.Line2D at 0x1d811f2c990>]"
      ]
     },
     "execution_count": 71,
     "metadata": {},
     "output_type": "execute_result"
    },
    {
     "data": {
      "image/png": "[encoded data removed]",
      "text/plain": [
       "<Figure size 640x480 with 1 Axes>"
      ]
     },
     "metadata": {},
     "output_type": "display_data"
    }
   ],
   "source": [
    "plt.plot(range(1,len(cum_var)+1),cum_var)"
   ]
  },
  {
   "cell_type": "code",
   "execution_count": 72,
   "id": "1fab8d2a",
   "metadata": {},
   "outputs": [],
   "source": [
    "from sklearn.decomposition import IncrementalPCA"
   ]
  },
  {
   "cell_type": "code",
   "execution_count": 73,
   "id": "e144ea7e",
   "metadata": {},
   "outputs": [],
   "source": [
    "pca2= IncrementalPCA(n_components= 60)\n",
    "df_train_pca =pca2.fit_transform(X_train)\n",
    "df_test_pca = pca2.transform(X_test)"
   ]
  },
  {
   "cell_type": "code",
   "execution_count": 74,
   "id": "7147fffd",
   "metadata": {},
   "outputs": [
    {
     "data": {
      "text/plain": [
       "array([[ 0.15609505,  0.16658405,  0.16456609, ...,  0.17616426,\n",
       "         0.03225102,  0.01509982],\n",
       "       [ 0.10971758,  0.13344862,  0.11603519, ...,  0.13276326,\n",
       "         0.02466695,  0.00845379],\n",
       "       [ 0.12454214,  0.14758127,  0.14281796, ...,  0.15248487,\n",
       "         0.03348907,  0.02408009],\n",
       "       ...,\n",
       "       [ 0.02015582, -0.02539115, -0.03260792, ...,  0.01555255,\n",
       "        -0.09141656,  0.04646099],\n",
       "       [-0.05021869,  0.02826679,  0.07849465, ..., -0.043069  ,\n",
       "         0.1602588 , -0.08103729],\n",
       "       [-0.00301454, -0.00398163,  0.02138823, ..., -0.00593018,\n",
       "         0.0436505 , -0.03370514]])"
      ]
     },
     "execution_count": 74,
     "metadata": {},
     "output_type": "execute_result"
    }
   ],
   "source": [
    "pca2.components_"
   ]
  },
  {
   "cell_type": "code",
   "execution_count": 75,
   "id": "1e4192c5",
   "metadata": {},
   "outputs": [
    {
     "name": "stdout",
     "output_type": "stream",
     "text": [
      "(18524, 60)\n",
      "(7940, 60)\n"
     ]
    }
   ],
   "source": [
    "print(df_train_pca.shape)\n",
    "print(df_test_pca.shape)"
   ]
  },
  {
   "cell_type": "markdown",
   "id": "f053fabb",
   "metadata": {},
   "source": [
    "## Logistic Regression using PCA"
   ]
  },
  {
   "cell_type": "code",
   "execution_count": 76,
   "id": "a511c443",
   "metadata": {},
   "outputs": [],
   "source": [
    "from sklearn.linear_model import LogisticRegression"
   ]
  },
  {
   "cell_type": "code",
   "execution_count": 77,
   "id": "dd0c60b9",
   "metadata": {},
   "outputs": [
    {
     "data": {
      "text/html": [
       "<style>#sk-container-id-2 {color: black;}#sk-container-id-2 pre{padding: 0;}#sk-container-id-2 div.sk-toggleable {background-color: white;}#sk-container-id-2 label.sk-toggleable__label {cursor: pointer;display: block;width: 100%;margin-bottom: 0;padding: 0.3em;box-sizing: border-box;text-align: center;}#sk-container-id-2 label.sk-toggleable__label-arrow:before {content: \"▸\";float: left;margin-right: 0.25em;color: #696969;}#sk-container-id-2 label.sk-toggleable__label-arrow:hover:before {color: black;}#sk-container-id-2 div.sk-estimator:hover label.sk-toggleable__label-arrow:before {color: black;}#sk-container-id-2 div.sk-toggleable__content {max-height: 0;max-width: 0;overflow: hidden;text-align: left;background-color: #f0f8ff;}#sk-container-id-2 div.sk-toggleable__content pre {margin: 0.2em;color: black;border-radius: 0.25em;background-color: #f0f8ff;}#sk-container-id-2 input.sk-toggleable__control:checked~div.sk-toggleable__content {max-height: 200px;max-width: 100%;overflow: auto;}#sk-container-id-2 input.sk-toggleable__control:checked~label.sk-toggleable__label-arrow:before {content: \"▾\";}#sk-container-id-2 div.sk-estimator input.sk-toggleable__control:checked~label.sk-toggleable__label {background-color: #d4ebff;}#sk-container-id-2 div.sk-label input.sk-toggleable__control:checked~label.sk-toggleable__label {background-color: #d4ebff;}#sk-container-id-2 input.sk-hidden--visually {border: 0;clip: rect(1px 1px 1px 1px);clip: rect(1px, 1px, 1px, 1px);height: 1px;margin: -1px;overflow: hidden;padding: 0;position: absolute;width: 1px;}#sk-container-id-2 div.sk-estimator {font-family: monospace;background-color: #f0f8ff;border: 1px dotted black;border-radius: 0.25em;box-sizing: border-box;margin-bottom: 0.5em;}#sk-container-id-2 div.sk-estimator:hover {background-color: #d4ebff;}#sk-container-id-2 div.sk-parallel-item::after {content: \"\";width: 100%;border-bottom: 1px solid gray;flex-grow: 1;}#sk-container-id-2 div.sk-label:hover label.sk-toggleable__label {background-color: #d4ebff;}#sk-container-id-2 div.sk-serial::before {content: \"\";position: absolute;border-left: 1px solid gray;box-sizing: border-box;top: 0;bottom: 0;left: 50%;z-index: 0;}#sk-container-id-2 div.sk-serial {display: flex;flex-direction: column;align-items: center;background-color: white;padding-right: 0.2em;padding-left: 0.2em;position: relative;}#sk-container-id-2 div.sk-item {position: relative;z-index: 1;}#sk-container-id-2 div.sk-parallel {display: flex;align-items: stretch;justify-content: center;background-color: white;position: relative;}#sk-container-id-2 div.sk-item::before, #sk-container-id-2 div.sk-parallel-item::before {content: \"\";position: absolute;border-left: 1px solid gray;box-sizing: border-box;top: 0;bottom: 0;left: 50%;z-index: -1;}#sk-container-id-2 div.sk-parallel-item {display: flex;flex-direction: column;z-index: 1;position: relative;background-color: white;}#sk-container-id-2 div.sk-parallel-item:first-child::after {align-self: flex-end;width: 50%;}#sk-container-id-2 div.sk-parallel-item:last-child::after {align-self: flex-start;width: 50%;}#sk-container-id-2 div.sk-parallel-item:only-child::after {width: 0;}#sk-container-id-2 div.sk-dashed-wrapped {border: 1px dashed gray;margin: 0 0.4em 0.5em 0.4em;box-sizing: border-box;padding-bottom: 0.4em;background-color: white;}#sk-container-id-2 div.sk-label label {font-family: monospace;font-weight: bold;display: inline-block;line-height: 1.2em;}#sk-container-id-2 div.sk-label-container {text-align: center;}#sk-container-id-2 div.sk-container {/* jupyter's `normalize.less` sets `[hidden] { display: none; }` but bootstrap.min.css set `[hidden] { display: none !important; }` so we also need the `!important` here to be able to override the default hidden behavior on the sphinx rendered scikit-learn.org. See: https://github.com/scikit-learn/scikit-learn/issues/21755 */display: inline-block !important;position: relative;}#sk-container-id-2 div.sk-text-repr-fallback {display: none;}</style><div id=\"sk-container-id-2\" class=\"sk-top-container\"><div class=\"sk-text-repr-fallback\"><pre>LogisticRegression(random_state=42)</pre><b>In a Jupyter environment, please rerun this cell to show the HTML representation or trust the notebook. <br />On GitHub, the HTML representation is unable to render, please try loading this page with nbviewer.org.</b></div><div class=\"sk-container\" hidden><div class=\"sk-item\"><div class=\"sk-estimator sk-toggleable\"><input class=\"sk-toggleable__control sk-hidden--visually\" id=\"sk-estimator-id-2\" type=\"checkbox\" checked><label for=\"sk-estimator-id-2\" class=\"sk-toggleable__label sk-toggleable__label-arrow\">LogisticRegression</label><div class=\"sk-toggleable__content\"><pre>LogisticRegression(random_state=42)</pre></div></div></div></div></div>"
      ],
      "text/plain": [
       "LogisticRegression(random_state=42)"
      ]
     },
     "execution_count": 77,
     "metadata": {},
     "output_type": "execute_result"
    }
   ],
   "source": [
    "logreg_pca = LogisticRegression(random_state=42)\n",
    "logreg_pca.fit(df_train_pca,y_train)"
   ]
  },
  {
   "cell_type": "code",
   "execution_count": 78,
   "id": "1dcd4d00",
   "metadata": {},
   "outputs": [],
   "source": [
    "predict_pca=logreg_pca.predict_proba(df_test_pca)"
   ]
  },
  {
   "cell_type": "code",
   "execution_count": 79,
   "id": "8f49c632",
   "metadata": {},
   "outputs": [
    {
     "data": {
      "text/plain": [
       "array([0.00570873, 0.00137598, 0.00931389, ..., 0.00347841, 0.01561046,\n",
       "       0.06938186])"
      ]
     },
     "execution_count": 79,
     "metadata": {},
     "output_type": "execute_result"
    }
   ],
   "source": [
    "predict_pca[:,1]"
   ]
  },
  {
   "cell_type": "code",
   "execution_count": 80,
   "id": "c8163541",
   "metadata": {},
   "outputs": [],
   "source": [
    "from sklearn.metrics import classification_report,accuracy_score,r2_score,roc_auc_score,precision_score,recall_score,confusion_matrix,f1_score"
   ]
  },
  {
   "cell_type": "code",
   "execution_count": 81,
   "id": "29df517c",
   "metadata": {},
   "outputs": [
    {
     "name": "stdout",
     "output_type": "stream",
     "text": [
      "0.8927659657296937\n"
     ]
    }
   ],
   "source": [
    "print(roc_auc_score(y_test,predict_pca[:,1]))"
   ]
  },
  {
   "cell_type": "markdown",
   "id": "f2a4b1f5",
   "metadata": {},
   "source": [
    "## Handling class imbalance"
   ]
  },
  {
   "cell_type": "code",
   "execution_count": 82,
   "id": "8fee6f37",
   "metadata": {},
   "outputs": [],
   "source": [
    "from imblearn.over_sampling import SMOTE\n",
    "smt= SMOTE(random_state=42,k_neighbors=5)\n",
    "X_resampled,y_resampled = smt.fit_resample(X_train,y_train)"
   ]
  },
  {
   "cell_type": "code",
   "execution_count": 83,
   "id": "ebea1e92",
   "metadata": {},
   "outputs": [
    {
     "data": {
      "text/plain": [
       "dict_items([(0, 17884), (1, 17884)])"
      ]
     },
     "execution_count": 83,
     "metadata": {},
     "output_type": "execute_result"
    }
   ],
   "source": [
    "from collections import Counter\n",
    "Counter(y_resampled).items()"
   ]
  },
  {
   "cell_type": "markdown",
   "id": "6badb61a",
   "metadata": {},
   "source": [
    "#### Fitting a Logistic regression on this resampled data"
   ]
  },
  {
   "cell_type": "code",
   "execution_count": 84,
   "id": "36beed9f",
   "metadata": {},
   "outputs": [
    {
     "data": {
      "text/html": [
       "<style>#sk-container-id-3 {color: black;}#sk-container-id-3 pre{padding: 0;}#sk-container-id-3 div.sk-toggleable {background-color: white;}#sk-container-id-3 label.sk-toggleable__label {cursor: pointer;display: block;width: 100%;margin-bottom: 0;padding: 0.3em;box-sizing: border-box;text-align: center;}#sk-container-id-3 label.sk-toggleable__label-arrow:before {content: \"▸\";float: left;margin-right: 0.25em;color: #696969;}#sk-container-id-3 label.sk-toggleable__label-arrow:hover:before {color: black;}#sk-container-id-3 div.sk-estimator:hover label.sk-toggleable__label-arrow:before {color: black;}#sk-container-id-3 div.sk-toggleable__content {max-height: 0;max-width: 0;overflow: hidden;text-align: left;background-color: #f0f8ff;}#sk-container-id-3 div.sk-toggleable__content pre {margin: 0.2em;color: black;border-radius: 0.25em;background-color: #f0f8ff;}#sk-container-id-3 input.sk-toggleable__control:checked~div.sk-toggleable__content {max-height: 200px;max-width: 100%;overflow: auto;}#sk-container-id-3 input.sk-toggleable__control:checked~label.sk-toggleable__label-arrow:before {content: \"▾\";}#sk-container-id-3 div.sk-estimator input.sk-toggleable__control:checked~label.sk-toggleable__label {background-color: #d4ebff;}#sk-container-id-3 div.sk-label input.sk-toggleable__control:checked~label.sk-toggleable__label {background-color: #d4ebff;}#sk-container-id-3 input.sk-hidden--visually {border: 0;clip: rect(1px 1px 1px 1px);clip: rect(1px, 1px, 1px, 1px);height: 1px;margin: -1px;overflow: hidden;padding: 0;position: absolute;width: 1px;}#sk-container-id-3 div.sk-estimator {font-family: monospace;background-color: #f0f8ff;border: 1px dotted black;border-radius: 0.25em;box-sizing: border-box;margin-bottom: 0.5em;}#sk-container-id-3 div.sk-estimator:hover {background-color: #d4ebff;}#sk-container-id-3 div.sk-parallel-item::after {content: \"\";width: 100%;border-bottom: 1px solid gray;flex-grow: 1;}#sk-container-id-3 div.sk-label:hover label.sk-toggleable__label {background-color: #d4ebff;}#sk-container-id-3 div.sk-serial::before {content: \"\";position: absolute;border-left: 1px solid gray;box-sizing: border-box;top: 0;bottom: 0;left: 50%;z-index: 0;}#sk-container-id-3 div.sk-serial {display: flex;flex-direction: column;align-items: center;background-color: white;padding-right: 0.2em;padding-left: 0.2em;position: relative;}#sk-container-id-3 div.sk-item {position: relative;z-index: 1;}#sk-container-id-3 div.sk-parallel {display: flex;align-items: stretch;justify-content: center;background-color: white;position: relative;}#sk-container-id-3 div.sk-item::before, #sk-container-id-3 div.sk-parallel-item::before {content: \"\";position: absolute;border-left: 1px solid gray;box-sizing: border-box;top: 0;bottom: 0;left: 50%;z-index: -1;}#sk-container-id-3 div.sk-parallel-item {display: flex;flex-direction: column;z-index: 1;position: relative;background-color: white;}#sk-container-id-3 div.sk-parallel-item:first-child::after {align-self: flex-end;width: 50%;}#sk-container-id-3 div.sk-parallel-item:last-child::after {align-self: flex-start;width: 50%;}#sk-container-id-3 div.sk-parallel-item:only-child::after {width: 0;}#sk-container-id-3 div.sk-dashed-wrapped {border: 1px dashed gray;margin: 0 0.4em 0.5em 0.4em;box-sizing: border-box;padding-bottom: 0.4em;background-color: white;}#sk-container-id-3 div.sk-label label {font-family: monospace;font-weight: bold;display: inline-block;line-height: 1.2em;}#sk-container-id-3 div.sk-label-container {text-align: center;}#sk-container-id-3 div.sk-container {/* jupyter's `normalize.less` sets `[hidden] { display: none; }` but bootstrap.min.css set `[hidden] { display: none !important; }` so we also need the `!important` here to be able to override the default hidden behavior on the sphinx rendered scikit-learn.org. See: https://github.com/scikit-learn/scikit-learn/issues/21755 */display: inline-block !important;position: relative;}#sk-container-id-3 div.sk-text-repr-fallback {display: none;}</style><div id=\"sk-container-id-3\" class=\"sk-top-container\"><div class=\"sk-text-repr-fallback\"><pre>LogisticRegression(random_state=42)</pre><b>In a Jupyter environment, please rerun this cell to show the HTML representation or trust the notebook. <br />On GitHub, the HTML representation is unable to render, please try loading this page with nbviewer.org.</b></div><div class=\"sk-container\" hidden><div class=\"sk-item\"><div class=\"sk-estimator sk-toggleable\"><input class=\"sk-toggleable__control sk-hidden--visually\" id=\"sk-estimator-id-3\" type=\"checkbox\" checked><label for=\"sk-estimator-id-3\" class=\"sk-toggleable__label sk-toggleable__label-arrow\">LogisticRegression</label><div class=\"sk-toggleable__content\"><pre>LogisticRegression(random_state=42)</pre></div></div></div></div></div>"
      ],
      "text/plain": [
       "LogisticRegression(random_state=42)"
      ]
     },
     "execution_count": 84,
     "metadata": {},
     "output_type": "execute_result"
    }
   ],
   "source": [
    "logreg2=LogisticRegression(random_state=42)\n",
    "logreg2.fit(X_resampled,y_resampled)"
   ]
  },
  {
   "cell_type": "code",
   "execution_count": 85,
   "id": "38bb3ece",
   "metadata": {},
   "outputs": [],
   "source": [
    "y_pred_smt = logreg2.predict(X_test)"
   ]
  },
  {
   "cell_type": "code",
   "execution_count": 86,
   "id": "696ef9fd",
   "metadata": {},
   "outputs": [
    {
     "name": "stdout",
     "output_type": "stream",
     "text": [
      "Accuracy:  0.8406801007556675\n",
      "F1 score:  0.25103611604499704\n",
      "Recall:  0.8346456692913385\n",
      "Precision:  0.14773519163763066\n",
      "\n",
      " clasification report:\n",
      "               precision    recall  f1-score   support\n",
      "\n",
      "           0       0.99      0.84      0.91      7686\n",
      "           1       0.15      0.83      0.25       254\n",
      "\n",
      "    accuracy                           0.84      7940\n",
      "   macro avg       0.57      0.84      0.58      7940\n",
      "weighted avg       0.97      0.84      0.89      7940\n",
      "\n",
      "\n",
      " confussion matrix:\n",
      " [[6463 1223]\n",
      " [  42  212]]\n"
     ]
    }
   ],
   "source": [
    "print ('Accuracy: ', accuracy_score(y_test, y_pred_smt))\n",
    "print ('F1 score: ', f1_score(y_test, y_pred_smt))\n",
    "print ('Recall: ', recall_score(y_test, y_pred_smt))\n",
    "print ('Precision: ', precision_score(y_test, y_pred_smt))\n",
    "print ('\\n clasification report:\\n', classification_report(y_test,y_pred_smt))\n",
    "print ('\\n confussion matrix:\\n',confusion_matrix(y_test, y_pred_smt))"
   ]
  },
  {
   "cell_type": "markdown",
   "id": "750dc8d5",
   "metadata": {},
   "source": [
    "## Random forest "
   ]
  },
  {
   "cell_type": "code",
   "execution_count": null,
   "id": "ea761709",
   "metadata": {},
   "outputs": [],
   "source": [
    "from sklearn.ensemble import RandomForestClassifier\n",
    "rm1= RandomForestClassifier()\n",
    "rm1.fit(X_resampled,y_resampled)\n"
   ]
  },
  {
   "cell_type": "code",
   "execution_count": 88,
   "id": "c7a65190",
   "metadata": {},
   "outputs": [],
   "source": [
    "y_pred_rm=rm1.predict(X_test)"
   ]
  },
  {
   "cell_type": "code",
   "execution_count": 89,
   "id": "08560310",
   "metadata": {},
   "outputs": [
    {
     "name": "stdout",
     "output_type": "stream",
     "text": [
      "Accuracy:  0.9590680100755667\n",
      "F1 score:  0.4799999999999999\n",
      "Recall:  0.5905511811023622\n",
      "Precision:  0.40431266846361186\n",
      "\n",
      " clasification report:\n",
      "               precision    recall  f1-score   support\n",
      "\n",
      "           0       0.99      0.97      0.98      7686\n",
      "           1       0.40      0.59      0.48       254\n",
      "\n",
      "    accuracy                           0.96      7940\n",
      "   macro avg       0.70      0.78      0.73      7940\n",
      "weighted avg       0.97      0.96      0.96      7940\n",
      "\n",
      "\n",
      " confussion matrix:\n",
      " [[7465  221]\n",
      " [ 104  150]]\n"
     ]
    }
   ],
   "source": [
    "print ('Accuracy: ', accuracy_score(y_test, y_pred_rm))\n",
    "print ('F1 score: ', f1_score(y_test, y_pred_rm))\n",
    "print ('Recall: ', recall_score(y_test, y_pred_rm))\n",
    "print ('Precision: ', precision_score(y_test, y_pred_rm))\n",
    "print ('\\n clasification report:\\n', classification_report(y_test,y_pred_rm))\n",
    "print ('\\n confussion matrix:\\n',confusion_matrix(y_test, y_pred_rm))"
   ]
  },
  {
   "cell_type": "markdown",
   "id": "767ececd",
   "metadata": {},
   "source": [
    "## Decision tree model using Hyper parameter tuning"
   ]
  },
  {
   "cell_type": "code",
   "execution_count": 90,
   "id": "37f79206",
   "metadata": {},
   "outputs": [],
   "source": [
    "from sklearn.model_selection import GridSearchCV\n",
    "from sklearn.tree import DecisionTreeClassifier"
   ]
  },
  {
   "cell_type": "code",
   "execution_count": 91,
   "id": "238b273d",
   "metadata": {},
   "outputs": [],
   "source": [
    "df= DecisionTreeClassifier()\n",
    "params={\n",
    "    'max_depth': [5, 10, 30,40,60],\n",
    "    'min_samples_leaf': [50, 100,1000,10000],\n",
    "    'criterion': [\"gini\", \"entropy\"]\n",
    "}"
   ]
  },
  {
   "cell_type": "code",
   "execution_count": 92,
   "id": "1a71dfd8",
   "metadata": {},
   "outputs": [],
   "source": [
    "grdsrchv= GridSearchCV(estimator=df,n_jobs=-1,verbose=1,cv=5,param_grid=params,scoring=\"accuracy\")"
   ]
  },
  {
   "cell_type": "code",
   "execution_count": 93,
   "id": "1376616c",
   "metadata": {},
   "outputs": [
    {
     "name": "stdout",
     "output_type": "stream",
     "text": [
      "Fitting 5 folds for each of 40 candidates, totalling 200 fits\n"
     ]
    },
    {
     "data": {
      "text/html": [
       "<style>#sk-container-id-5 {color: black;}#sk-container-id-5 pre{padding: 0;}#sk-container-id-5 div.sk-toggleable {background-color: white;}#sk-container-id-5 label.sk-toggleable__label {cursor: pointer;display: block;width: 100%;margin-bottom: 0;padding: 0.3em;box-sizing: border-box;text-align: center;}#sk-container-id-5 label.sk-toggleable__label-arrow:before {content: \"▸\";float: left;margin-right: 0.25em;color: #696969;}#sk-container-id-5 label.sk-toggleable__label-arrow:hover:before {color: black;}#sk-container-id-5 div.sk-estimator:hover label.sk-toggleable__label-arrow:before {color: black;}#sk-container-id-5 div.sk-toggleable__content {max-height: 0;max-width: 0;overflow: hidden;text-align: left;background-color: #f0f8ff;}#sk-container-id-5 div.sk-toggleable__content pre {margin: 0.2em;color: black;border-radius: 0.25em;background-color: #f0f8ff;}#sk-container-id-5 input.sk-toggleable__control:checked~div.sk-toggleable__content {max-height: 200px;max-width: 100%;overflow: auto;}#sk-container-id-5 input.sk-toggleable__control:checked~label.sk-toggleable__label-arrow:before {content: \"▾\";}#sk-container-id-5 div.sk-estimator input.sk-toggleable__control:checked~label.sk-toggleable__label {background-color: #d4ebff;}#sk-container-id-5 div.sk-label input.sk-toggleable__control:checked~label.sk-toggleable__label {background-color: #d4ebff;}#sk-container-id-5 input.sk-hidden--visually {border: 0;clip: rect(1px 1px 1px 1px);clip: rect(1px, 1px, 1px, 1px);height: 1px;margin: -1px;overflow: hidden;padding: 0;position: absolute;width: 1px;}#sk-container-id-5 div.sk-estimator {font-family: monospace;background-color: #f0f8ff;border: 1px dotted black;border-radius: 0.25em;box-sizing: border-box;margin-bottom: 0.5em;}#sk-container-id-5 div.sk-estimator:hover {background-color: #d4ebff;}#sk-container-id-5 div.sk-parallel-item::after {content: \"\";width: 100%;border-bottom: 1px solid gray;flex-grow: 1;}#sk-container-id-5 div.sk-label:hover label.sk-toggleable__label {background-color: #d4ebff;}#sk-container-id-5 div.sk-serial::before {content: \"\";position: absolute;border-left: 1px solid gray;box-sizing: border-box;top: 0;bottom: 0;left: 50%;z-index: 0;}#sk-container-id-5 div.sk-serial {display: flex;flex-direction: column;align-items: center;background-color: white;padding-right: 0.2em;padding-left: 0.2em;position: relative;}#sk-container-id-5 div.sk-item {position: relative;z-index: 1;}#sk-container-id-5 div.sk-parallel {display: flex;align-items: stretch;justify-content: center;background-color: white;position: relative;}#sk-container-id-5 div.sk-item::before, #sk-container-id-5 div.sk-parallel-item::before {content: \"\";position: absolute;border-left: 1px solid gray;box-sizing: border-box;top: 0;bottom: 0;left: 50%;z-index: -1;}#sk-container-id-5 div.sk-parallel-item {display: flex;flex-direction: column;z-index: 1;position: relative;background-color: white;}#sk-container-id-5 div.sk-parallel-item:first-child::after {align-self: flex-end;width: 50%;}#sk-container-id-5 div.sk-parallel-item:last-child::after {align-self: flex-start;width: 50%;}#sk-container-id-5 div.sk-parallel-item:only-child::after {width: 0;}#sk-container-id-5 div.sk-dashed-wrapped {border: 1px dashed gray;margin: 0 0.4em 0.5em 0.4em;box-sizing: border-box;padding-bottom: 0.4em;background-color: white;}#sk-container-id-5 div.sk-label label {font-family: monospace;font-weight: bold;display: inline-block;line-height: 1.2em;}#sk-container-id-5 div.sk-label-container {text-align: center;}#sk-container-id-5 div.sk-container {/* jupyter's `normalize.less` sets `[hidden] { display: none; }` but bootstrap.min.css set `[hidden] { display: none !important; }` so we also need the `!important` here to be able to override the default hidden behavior on the sphinx rendered scikit-learn.org. See: https://github.com/scikit-learn/scikit-learn/issues/21755 */display: inline-block !important;position: relative;}#sk-container-id-5 div.sk-text-repr-fallback {display: none;}</style><div id=\"sk-container-id-5\" class=\"sk-top-container\"><div class=\"sk-text-repr-fallback\"><pre>GridSearchCV(cv=5, estimator=DecisionTreeClassifier(), n_jobs=-1,\n",
       "             param_grid={&#x27;criterion&#x27;: [&#x27;gini&#x27;, &#x27;entropy&#x27;],\n",
       "                         &#x27;max_depth&#x27;: [5, 10, 30, 40, 60],\n",
       "                         &#x27;min_samples_leaf&#x27;: [50, 100, 1000, 10000]},\n",
       "             scoring=&#x27;accuracy&#x27;, verbose=1)</pre><b>In a Jupyter environment, please rerun this cell to show the HTML representation or trust the notebook. <br />On GitHub, the HTML representation is unable to render, please try loading this page with nbviewer.org.</b></div><div class=\"sk-container\" hidden><div class=\"sk-item sk-dashed-wrapped\"><div class=\"sk-label-container\"><div class=\"sk-label sk-toggleable\"><input class=\"sk-toggleable__control sk-hidden--visually\" id=\"sk-estimator-id-5\" type=\"checkbox\" ><label for=\"sk-estimator-id-5\" class=\"sk-toggleable__label sk-toggleable__label-arrow\">GridSearchCV</label><div class=\"sk-toggleable__content\"><pre>GridSearchCV(cv=5, estimator=DecisionTreeClassifier(), n_jobs=-1,\n",
       "             param_grid={&#x27;criterion&#x27;: [&#x27;gini&#x27;, &#x27;entropy&#x27;],\n",
       "                         &#x27;max_depth&#x27;: [5, 10, 30, 40, 60],\n",
       "                         &#x27;min_samples_leaf&#x27;: [50, 100, 1000, 10000]},\n",
       "             scoring=&#x27;accuracy&#x27;, verbose=1)</pre></div></div></div><div class=\"sk-parallel\"><div class=\"sk-parallel-item\"><div class=\"sk-item\"><div class=\"sk-label-container\"><div class=\"sk-label sk-toggleable\"><input class=\"sk-toggleable__control sk-hidden--visually\" id=\"sk-estimator-id-6\" type=\"checkbox\" ><label for=\"sk-estimator-id-6\" class=\"sk-toggleable__label sk-toggleable__label-arrow\">estimator: DecisionTreeClassifier</label><div class=\"sk-toggleable__content\"><pre>DecisionTreeClassifier()</pre></div></div></div><div class=\"sk-serial\"><div class=\"sk-item\"><div class=\"sk-estimator sk-toggleable\"><input class=\"sk-toggleable__control sk-hidden--visually\" id=\"sk-estimator-id-7\" type=\"checkbox\" ><label for=\"sk-estimator-id-7\" class=\"sk-toggleable__label sk-toggleable__label-arrow\">DecisionTreeClassifier</label><div class=\"sk-toggleable__content\"><pre>DecisionTreeClassifier()</pre></div></div></div></div></div></div></div></div></div></div>"
      ],
      "text/plain": [
       "GridSearchCV(cv=5, estimator=DecisionTreeClassifier(), n_jobs=-1,\n",
       "             param_grid={'criterion': ['gini', 'entropy'],\n",
       "                         'max_depth': [5, 10, 30, 40, 60],\n",
       "                         'min_samples_leaf': [50, 100, 1000, 10000]},\n",
       "             scoring='accuracy', verbose=1)"
      ]
     },
     "execution_count": 93,
     "metadata": {},
     "output_type": "execute_result"
    }
   ],
   "source": [
    "grdsrchv.fit(X_resampled,y_resampled)"
   ]
  },
  {
   "cell_type": "code",
   "execution_count": 94,
   "id": "de074a68",
   "metadata": {},
   "outputs": [],
   "source": [
    "best_est=grdsrchv.best_estimator_"
   ]
  },
  {
   "cell_type": "code",
   "execution_count": 95,
   "id": "2a2c4aa0",
   "metadata": {},
   "outputs": [],
   "source": [
    "y_pred_df = best_est.predict(X_test)"
   ]
  },
  {
   "cell_type": "code",
   "execution_count": 96,
   "id": "3d550ec6",
   "metadata": {
    "scrolled": true
   },
   "outputs": [
    {
     "name": "stdout",
     "output_type": "stream",
     "text": [
      "Accuracy:  0.9341309823677582\n",
      "F1 score:  0.44420828905419757\n",
      "Recall:  0.8228346456692913\n",
      "Precision:  0.3042212518195051\n",
      "\n",
      " clasification report:\n",
      "               precision    recall  f1-score   support\n",
      "\n",
      "           0       0.99      0.94      0.96      7686\n",
      "           1       0.30      0.82      0.44       254\n",
      "\n",
      "    accuracy                           0.93      7940\n",
      "   macro avg       0.65      0.88      0.70      7940\n",
      "weighted avg       0.97      0.93      0.95      7940\n",
      "\n",
      "\n",
      " confussion matrix:\n",
      " [[7208  478]\n",
      " [  45  209]]\n"
     ]
    }
   ],
   "source": [
    "print ('Accuracy: ', accuracy_score(y_test, y_pred_df))\n",
    "print ('F1 score: ', f1_score(y_test, y_pred_df))\n",
    "print ('Recall: ', recall_score(y_test, y_pred_df))\n",
    "print ('Precision: ', precision_score(y_test, y_pred_df))\n",
    "print ('\\n clasification report:\\n', classification_report(y_test,y_pred_df))\n",
    "print ('\\n confussion matrix:\\n',confusion_matrix(y_test, y_pred_df))"
   ]
  },
  {
   "cell_type": "code",
   "execution_count": 100,
   "id": "669391d5",
   "metadata": {},
   "outputs": [],
   "source": [
    "feature_importances = best_est.feature_importances_"
   ]
  },
  {
   "cell_type": "code",
   "execution_count": 106,
   "id": "35437350",
   "metadata": {},
   "outputs": [
    {
     "data": {
      "text/html": [
       "<div>\n",
       "<style scoped>\n",
       "    .dataframe tbody tr th:only-of-type {\n",
       "        vertical-align: middle;\n",
       "    }\n",
       "\n",
       "    .dataframe tbody tr th {\n",
       "        vertical-align: top;\n",
       "    }\n",
       "\n",
       "    .dataframe thead th {\n",
       "        text-align: right;\n",
       "    }\n",
       "</style>\n",
       "<table border=\"1\" class=\"dataframe\">\n",
       "  <thead>\n",
       "    <tr style=\"text-align: right;\">\n",
       "      <th></th>\n",
       "      <th>Feature</th>\n",
       "      <th>Importance</th>\n",
       "    </tr>\n",
       "  </thead>\n",
       "  <tbody>\n",
       "    <tr>\n",
       "      <th>11</th>\n",
       "      <td>roam_ic_mou_8</td>\n",
       "      <td>0.693658</td>\n",
       "    </tr>\n",
       "    <tr>\n",
       "      <th>80</th>\n",
       "      <td>total_ic_mou_8</td>\n",
       "      <td>0.084281</td>\n",
       "    </tr>\n",
       "    <tr>\n",
       "      <th>14</th>\n",
       "      <td>roam_og_mou_8</td>\n",
       "      <td>0.026383</td>\n",
       "    </tr>\n",
       "    <tr>\n",
       "      <th>98</th>\n",
       "      <td>max_rech_amt_8</td>\n",
       "      <td>0.022059</td>\n",
       "    </tr>\n",
       "    <tr>\n",
       "      <th>40</th>\n",
       "      <td>std_og_mou_7</td>\n",
       "      <td>0.021860</td>\n",
       "    </tr>\n",
       "    <tr>\n",
       "      <th>101</th>\n",
       "      <td>last_day_rch_amt_8</td>\n",
       "      <td>0.015544</td>\n",
       "    </tr>\n",
       "    <tr>\n",
       "      <th>91</th>\n",
       "      <td>total_rech_num_7</td>\n",
       "      <td>0.008763</td>\n",
       "    </tr>\n",
       "    <tr>\n",
       "      <th>110</th>\n",
       "      <td>monthly_2g_8</td>\n",
       "      <td>0.008305</td>\n",
       "    </tr>\n",
       "    <tr>\n",
       "      <th>53</th>\n",
       "      <td>total_og_mou_8</td>\n",
       "      <td>0.005868</td>\n",
       "    </tr>\n",
       "    <tr>\n",
       "      <th>9</th>\n",
       "      <td>roam_ic_mou_6</td>\n",
       "      <td>0.005649</td>\n",
       "    </tr>\n",
       "    <tr>\n",
       "      <th>66</th>\n",
       "      <td>std_ic_t2t_mou_6</td>\n",
       "      <td>0.005499</td>\n",
       "    </tr>\n",
       "    <tr>\n",
       "      <th>100</th>\n",
       "      <td>last_day_rch_amt_7</td>\n",
       "      <td>0.005430</td>\n",
       "    </tr>\n",
       "    <tr>\n",
       "      <th>115</th>\n",
       "      <td>monthly_3g_7</td>\n",
       "      <td>0.005310</td>\n",
       "    </tr>\n",
       "    <tr>\n",
       "      <th>27</th>\n",
       "      <td>loc_og_mou_6</td>\n",
       "      <td>0.004411</td>\n",
       "    </tr>\n",
       "    <tr>\n",
       "      <th>112</th>\n",
       "      <td>sachet_2g_7</td>\n",
       "      <td>0.004089</td>\n",
       "    </tr>\n",
       "    <tr>\n",
       "      <th>99</th>\n",
       "      <td>last_day_rch_amt_6</td>\n",
       "      <td>0.003768</td>\n",
       "    </tr>\n",
       "    <tr>\n",
       "      <th>31</th>\n",
       "      <td>std_og_t2t_mou_7</td>\n",
       "      <td>0.003564</td>\n",
       "    </tr>\n",
       "    <tr>\n",
       "      <th>74</th>\n",
       "      <td>std_ic_t2f_mou_8</td>\n",
       "      <td>0.003542</td>\n",
       "    </tr>\n",
       "    <tr>\n",
       "      <th>34</th>\n",
       "      <td>std_og_t2m_mou_7</td>\n",
       "      <td>0.003193</td>\n",
       "    </tr>\n",
       "    <tr>\n",
       "      <th>62</th>\n",
       "      <td>loc_ic_t2f_mou_8</td>\n",
       "      <td>0.003160</td>\n",
       "    </tr>\n",
       "  </tbody>\n",
       "</table>\n",
       "</div>"
      ],
      "text/plain": [
       "                Feature  Importance\n",
       "11        roam_ic_mou_8    0.693658\n",
       "80       total_ic_mou_8    0.084281\n",
       "14        roam_og_mou_8    0.026383\n",
       "98       max_rech_amt_8    0.022059\n",
       "40         std_og_mou_7    0.021860\n",
       "101  last_day_rch_amt_8    0.015544\n",
       "91     total_rech_num_7    0.008763\n",
       "110        monthly_2g_8    0.008305\n",
       "53       total_og_mou_8    0.005868\n",
       "9         roam_ic_mou_6    0.005649\n",
       "66     std_ic_t2t_mou_6    0.005499\n",
       "100  last_day_rch_amt_7    0.005430\n",
       "115        monthly_3g_7    0.005310\n",
       "27         loc_og_mou_6    0.004411\n",
       "112         sachet_2g_7    0.004089\n",
       "99   last_day_rch_amt_6    0.003768\n",
       "31     std_og_t2t_mou_7    0.003564\n",
       "74     std_ic_t2f_mou_8    0.003542\n",
       "34     std_og_t2m_mou_7    0.003193\n",
       "62     loc_ic_t2f_mou_8    0.003160"
      ]
     },
     "execution_count": 106,
     "metadata": {},
     "output_type": "execute_result"
    }
   ],
   "source": [
    "importance_df = pd.DataFrame({\n",
    "    'Feature': X.columns,\n",
    "    'Importance': feature_importances\n",
    "})\n",
    "importance_df = importance_df.sort_values(by='Importance', ascending=False)\n",
    "importance_df.head(20)\n"
   ]
  },
  {
   "cell_type": "markdown",
   "id": "1169f393",
   "metadata": {},
   "source": [
    "###  Main indicator of churn\n",
    "From above it is clear that the factors affecting the churn are roam_ic_mou_8,total_ic_mou_8,roam_og_mou_8,max_rech_amt_8.\n",
    "\n",
    "Steps to help reduce churn\n",
    "\n",
    "Give special; discounts to customers according to their usage\n",
    "\n",
    "Provide additional internet services on recharge.\n",
    "\n",
    "Speak to customers to fulfil their desires.\n",
    "\n",
    "Lower tariffs on data usage,a better 2G area coverage where 3G is not available.\n",
    "\n",
    "Expansion of 3G network where 3G is currently not available."
   ]
  },
  {
   "cell_type": "code",
   "execution_count": null,
   "id": "c1b6c3b6",
   "metadata": {},
   "outputs": [],
   "source": []
  },
  {
   "cell_type": "code",
   "execution_count": null,
   "id": "9293efa0",
   "metadata": {},
   "outputs": [],
   "source": []
  }
 ],
 "metadata": {
  "kernelspec": {
   "display_name": "Python 3 (ipykernel)",
   "language": "python",
   "name": "python3"
  },
  "language_info": {
   "codemirror_mode": {
    "name": "ipython",
    "version": 3
   },
   "file_extension": ".py",
   "mimetype": "text/x-python",
   "name": "python",
   "nbconvert_exporter": "python",
   "pygments_lexer": "ipython3",
   "version": "3.11.5"
  }
 },
 "nbformat": 4,
 "nbformat_minor": 5
}
